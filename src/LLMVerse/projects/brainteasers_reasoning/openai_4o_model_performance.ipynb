{
 "cells": [
  {
   "cell_type": "code",
   "execution_count": 5,
   "metadata": {},
   "outputs": [
    {
     "name": "stdout",
     "output_type": "stream",
     "text": [
      "The autoreload extension is already loaded. To reload it, use:\n",
      "  %reload_ext autoreload\n"
     ]
    }
   ],
   "source": [
    "%load_ext autoreload\n",
    "%autoreload 2\n",
    "\n",
    "import getpass\n",
    "import os\n",
    "import sys\n",
    "\n",
    "import numpy as np\n",
    "import pandas as pd\n",
    "pd.set_option('max_colwidth', 800)\n",
    "\n",
    "from joblib import Parallel, delayed\n",
    "\n",
    "# add path for the src dir\n",
    "sys.path.append('/Users/maxshap/Documents/workspace/LLMverse/src')\n",
    "\n",
    "from LLMverse.api.openai import basic_response_generation"
   ]
  },
  {
   "cell_type": "markdown",
   "metadata": {},
   "source": [
    "### Evaluate model performance on the BRAINTEASER dataset to asses lateral thinking capabilities\n",
    "* [paper link](https://arxiv.org/pdf/2310.05057)\n",
    "* [dataset link](https://github.com/1171-jpg/BrainTeaser/tree/main)\n",
    "\n",
    "Approach:\n",
    "1. Take riddles one by one, ask `gpt-4o-mini` and `gpt-4o` to think step by step and solve it\n",
    "2. Run `gpt-4o` as a judge (since it is a more powerful model then mini variant of it), this time providing text of the riddle, along with correct and generated answer and ask to check if semantically generated response is close to reference answer.\n",
    "3. Calculate accuracy \n"
   ]
  },
  {
   "cell_type": "code",
   "execution_count": null,
   "metadata": {},
   "outputs": [
    {
     "name": "stdout",
     "output_type": "stream",
     "text": [
      "Original dataset shape (1119, 4)\n",
      "Dataset after filtrations (1058, 5)\n"
     ]
    },
    {
     "data": {
      "text/html": [
       "<div>\n",
       "<style scoped>\n",
       "    .dataframe tbody tr th:only-of-type {\n",
       "        vertical-align: middle;\n",
       "    }\n",
       "\n",
       "    .dataframe tbody tr th {\n",
       "        vertical-align: top;\n",
       "    }\n",
       "\n",
       "    .dataframe thead th {\n",
       "        text-align: right;\n",
       "    }\n",
       "</style>\n",
       "<table border=\"1\" class=\"dataframe\">\n",
       "  <thead>\n",
       "    <tr style=\"text-align: right;\">\n",
       "      <th></th>\n",
       "      <th>id</th>\n",
       "      <th>question</th>\n",
       "      <th>answer</th>\n",
       "      <th>list_of_options</th>\n",
       "      <th>category</th>\n",
       "      <th>puzzle_type</th>\n",
       "    </tr>\n",
       "  </thead>\n",
       "  <tbody>\n",
       "    <tr>\n",
       "      <th>112</th>\n",
       "      <td>WP-37_SR</td>\n",
       "      <td>Which three letters can fend off a thief?</td>\n",
       "      <td>I C U.</td>\n",
       "      <td>[O P T, I C U., S O S, None of above.]</td>\n",
       "      <td>word_puzzle</td>\n",
       "      <td>original</td>\n",
       "    </tr>\n",
       "    <tr>\n",
       "      <th>284</th>\n",
       "      <td>SP-94_CR</td>\n",
       "      <td>Two person had to go to the top of the hill. There's only one motorcycle, yet only one person can ride it. Fortunately, they both get to the top of the hill. How?</td>\n",
       "      <td>One person is already at the top of the hill.</td>\n",
       "      <td>[They find a good view., One men go home to get a another motorcycle., One person is already at the top of the hill., None of above.]</td>\n",
       "      <td>sentence_puzzle</td>\n",
       "      <td>semantic_reconstruction</td>\n",
       "    </tr>\n",
       "    <tr>\n",
       "      <th>237</th>\n",
       "      <td>SP-79</td>\n",
       "      <td>Jessica is telling her friends this story and asks them to guess if it's the truth or a lie: \"There was a man sitting in a house at night that had no lights on at all. There was no lamp, no candle, and no other source of light. Yet, he sat in the house and read his book happily.\" Her friends say she's lying, but Jessica corrects them and says she's telling the truth. Jessica's story is true—but how?</td>\n",
       "      <td>The man is blind and is reading braille.\\n</td>\n",
       "      <td>[The man is blind and is reading braille.\\n, The man is smart that she pretended to reading the book., Because it was daytime., None of above.]</td>\n",
       "      <td>sentence_puzzle</td>\n",
       "      <td>semantic_reconstruction</td>\n",
       "    </tr>\n",
       "    <tr>\n",
       "      <th>32</th>\n",
       "      <td>SP-10_CR</td>\n",
       "      <td>Eight people were sitting under a large tree. Suddenly, a gust of wind blows, yet none of them got hit by any falling leaves. How is this possible?</td>\n",
       "      <td>It was winter and the tree doesn't have any leaves.</td>\n",
       "      <td>[Trees could have had a unique characteristic that made it resistant to losing leaves in windy conditions. , The gust of wind is that the wind blew in a direction away from the tree rather than towards it., It was winter and the tree doesn't have any leaves., None of above.]</td>\n",
       "      <td>sentence_puzzle</td>\n",
       "      <td>semantic_reconstruction</td>\n",
       "    </tr>\n",
       "    <tr>\n",
       "      <th>107</th>\n",
       "      <td>WP-35_CR</td>\n",
       "      <td>What is the sum of 3/6 monkey, 3/4 tree, and 2/7 alcohol?</td>\n",
       "      <td>Montreal.</td>\n",
       "      <td>[Montreal., California., Texas., None of above.]</td>\n",
       "      <td>word_puzzle</td>\n",
       "      <td>context_reconstruction</td>\n",
       "    </tr>\n",
       "  </tbody>\n",
       "</table>\n",
       "</div>"
      ],
      "text/plain": [
       "           id  \\\n",
       "112  WP-37_SR   \n",
       "284  SP-94_CR   \n",
       "237     SP-79   \n",
       "32   SP-10_CR   \n",
       "107  WP-35_CR   \n",
       "\n",
       "                                                                                                                                                                                                                                                                                                                                                                                                               question  \\\n",
       "112                                                                                                                                                                                                                                                                                                                                                                           Which three letters can fend off a thief?   \n",
       "284                                                                                                                                                                                                                                                  Two person had to go to the top of the hill. There's only one motorcycle, yet only one person can ride it. Fortunately, they both get to the top of the hill. How?   \n",
       "237  Jessica is telling her friends this story and asks them to guess if it's the truth or a lie: \"There was a man sitting in a house at night that had no lights on at all. There was no lamp, no candle, and no other source of light. Yet, he sat in the house and read his book happily.\" Her friends say she's lying, but Jessica corrects them and says she's telling the truth. Jessica's story is true—but how?   \n",
       "32                                                                                                                                                                                                                                                                  Eight people were sitting under a large tree. Suddenly, a gust of wind blows, yet none of them got hit by any falling leaves. How is this possible?   \n",
       "107                                                                                                                                                                                                                                                                                                                                                           What is the sum of 3/6 monkey, 3/4 tree, and 2/7 alcohol?   \n",
       "\n",
       "                                                  answer  \\\n",
       "112                                               I C U.   \n",
       "284        One person is already at the top of the hill.   \n",
       "237           The man is blind and is reading braille.\\n   \n",
       "32   It was winter and the tree doesn't have any leaves.   \n",
       "107                                            Montreal.   \n",
       "\n",
       "                                                                                                                                                                                                                                                                         list_of_options  \\\n",
       "112                                                                                                                                                                                                                                               [O P T, I C U., S O S, None of above.]   \n",
       "284                                                                                                                                                [They find a good view., One men go home to get a another motorcycle., One person is already at the top of the hill., None of above.]   \n",
       "237                                                                                                                                      [The man is blind and is reading braille.\\n, The man is smart that she pretended to reading the book., Because it was daytime., None of above.]   \n",
       "32   [Trees could have had a unique characteristic that made it resistant to losing leaves in windy conditions. , The gust of wind is that the wind blew in a direction away from the tree rather than towards it., It was winter and the tree doesn't have any leaves., None of above.]   \n",
       "107                                                                                                                                                                                                                                     [Montreal., California., Texas., None of above.]   \n",
       "\n",
       "            category              puzzle_type  \n",
       "112      word_puzzle                 original  \n",
       "284  sentence_puzzle  semantic_reconstruction  \n",
       "237  sentence_puzzle  semantic_reconstruction  \n",
       "32   sentence_puzzle  semantic_reconstruction  \n",
       "107      word_puzzle   context_reconstruction  "
      ]
     },
     "execution_count": 6,
     "metadata": {},
     "output_type": "execute_result"
    }
   ],
   "source": [
    "# load data\n",
    "sentence_puzzles = np.load('/Users/maxshap/Downloads/BTDATA/sentence_puzzle.npy', allow_pickle=True)\n",
    "sentence_frame = pd.DataFrame({\n",
    "    'id': [x['id'] for x in sentence_puzzles],\n",
    "    'question': [x['question'] for x in sentence_puzzles],\n",
    "    'answer': [x['answer'] for x in sentence_puzzles],\n",
    "    'list_of_options': [x['choice_list'] for x in sentence_puzzles]\n",
    "})\n",
    "word_puzzles = np.load('/Users/maxshap/Downloads/BTDATA/word_puzzle.npy', allow_pickle=True)\n",
    "word_frame = pd.DataFrame({\n",
    "    'id': [x['id'] for x in word_puzzles],\n",
    "    'question': [x['question'] for x in word_puzzles],\n",
    "    'answer': [x['answer'] for x in word_puzzles],\n",
    "    'list_of_options': [x['choice_list'] for x in word_puzzles]\n",
    "})\n",
    "data = pd.concat([sentence_frame, word_frame])\n",
    "data = data.sample(random_state=101, frac=1)\n",
    "\n",
    "print('Original dataset shape', data.shape)\n",
    "\n",
    "data['category'] = data['id'].apply(lambda x: 'word_puzzle' if 'WP' in x else 'sentence_puzzle')\n",
    "# exclude questions where the question is formulated in a way that the model should choose one of the options\n",
    "data = data[data['answer'] != 'None of above.']\n",
    "print('Dataset after filtrations', data.shape)\n",
    "\n",
    "def extract_puzzle_type(puzzle_id):\n",
    "    if 'SR' in puzzle_id:\n",
    "        return 'semantic_reconstruction'\n",
    "    elif 'CR'in puzzle_id:\n",
    "        return 'context_reconstruction'\n",
    "    return 'original'\n",
    "\n",
    "data['puzzle_type'] = data['id'].apply(extract_puzzle_type)\n",
    "\n",
    "data.head()"
   ]
  },
  {
   "cell_type": "code",
   "execution_count": 7,
   "metadata": {},
   "outputs": [],
   "source": [
    "# define prompt for model to solve riddles\n",
    "\n",
    "system_prompt = \"\"\"\n",
    "You are an expert in solving riddles.\n",
    "You will be provided with a riddle wrapped in the tags: <riddle>riddle text</riddle>.\n",
    "\n",
    "Your task is to provide an answer to the riddle.\n",
    "\n",
    "If you find it helpful, you may output your intermediate thoughts to aid in finding the answer. These should be wrapped in the tags <thinking>your thinking process</thinking>. However, this is optional.\n",
    "You must conclude your response with the final answer wrapped in the tags <answer>your answer</answer>.\n",
    "If you are unsure of the answer, respond with <answer>I have no answer</answer>.\n",
    "Let’s begin solving riddles.\n",
    "\"\"\"\n",
    "\n",
    "# define prompt for model to validate solutions against correct answers\n",
    "validator_system_prompt = \"\"\"\n",
    "You are an expert in validating answers to riddles.\n",
    "\n",
    "You will be provided with the following:\n",
    "\n",
    "A riddle wrapped in the tags: <riddle>riddle text</riddle>.\n",
    "A reference answer wrapped in the tags: <reference_answer>text</reference_answer>.\n",
    "A predicted answer wrapped in the tags: <predicted_answer>text</predicted_answer>.\n",
    "Your task is to determine whether the predicted answer matches the reference answer.\n",
    "\n",
    "Focus on whether the meaning of the predicted answer aligns with the reference answer, ignoring any typos.\n",
    "The reference answer may also include an explanation, usually in a separate sentence. If the predicted answer contains reasoning that differs from the reference reasoning but the predicted answer itself is correct, you should still consider the riddle as solved correctly.\n",
    "If you strongly believe the predicted answer is valid and can be treated as correct (even if it is completely different from the reference answer), you may decide that the riddle is solved correctly.\n",
    "You may output intermediate thoughts to help you reach a decision. These should be wrapped in the tags <thoughts></thoughts>.\n",
    "\n",
    "Finally, return your verdict wrapped in the tags <verdict>your verdict</verdict>.\n",
    "Your verdict should be either True (for matching answers) or False (if the answers do not match).\n",
    "\"\"\""
   ]
  },
  {
   "cell_type": "code",
   "execution_count": 8,
   "metadata": {},
   "outputs": [],
   "source": [
    "# setup api key\n",
    "api_key = getpass.getpass()"
   ]
  },
  {
   "cell_type": "code",
   "execution_count": 10,
   "metadata": {},
   "outputs": [],
   "source": [
    "# helper function to read predictions and validations from local files\n",
    "\n",
    "import re\n",
    "def parse_response_from_file(utt_id, output_dir):\n",
    "    with open(f'{output_dir}/{utt_id}.txt', 'r') as f:\n",
    "        model_output = f.read()\n",
    "    matches = re.findall(r\"<answer>(.*?)</answer>\", model_output)\n",
    "    if not matches:\n",
    "        print('Answer was not found, replace with I have no answer string')\n",
    "        return \"I have no answer\"\n",
    "    if len(matches) > 1:\n",
    "        print(\"Suspicious response with multiple matches, first is used\")\n",
    "    return matches[0]\n",
    "\n",
    "def extract_verdict_from_file(utt_id, output_dir):\n",
    "    with open(f'{output_dir}/{utt_id}.txt', 'r') as f:\n",
    "        model_output = f.read()    \n",
    "    patterns = [\n",
    "        r\"<verdict>(.*?)</verdict>\",              # Standard case\n",
    "        r\"verdict=(True|False)\",                 # Inline case\n",
    "        r\"verdict>(True|False)</verdict>\",       # Inline with incorrect opening tag\n",
    "        r\"veredict>\\s*(True|False)\\s*</verdict>\",  # Misspelled \"veredict\" case\n",
    "        r\"verdict>\\s*<(True|False)\\s*/>\\s*</verdict>\",  # Case with additional closing brackets\n",
    "        r\"verdict>\\s*<(True|False)\\s*</verdict>\",  # Case with stray \"<\" before verdict value\n",
    "        r\"verdict\\s+(True|False)\",               # Inline case without \"=\"\n",
    "    ]\n",
    "    # Try each pattern\n",
    "    for pattern in patterns:\n",
    "        match = re.search(pattern, model_output, re.IGNORECASE)\n",
    "        if match:\n",
    "            match = match.group(1).strip()\n",
    "            if 'True'in match:\n",
    "                return True\n",
    "            elif 'False' in match:\n",
    "                return False\n",
    "            else:\n",
    "                print(f'Unexpected answer, {match}')\n",
    "                return False\n",
    "    print(f'Answer was not found, replace with False, suspicious example: {model_output}')\n",
    "    return False"
   ]
  },
  {
   "cell_type": "code",
   "execution_count": 12,
   "metadata": {},
   "outputs": [
    {
     "name": "stdout",
     "output_type": "stream",
     "text": [
      "Running solver for gpt-4o-mini\n"
     ]
    },
    {
     "name": "stdout",
     "output_type": "stream",
     "text": [
      "Suspicious response with multiple matches, first is used\n",
      "Answer was not found, replace with I have no answer string\n",
      "Running judge for gpt-4o-mini\n",
      "Running solver for gpt-4o\n",
      "Running judge for gpt-4o\n"
     ]
    }
   ],
   "source": [
    "model = 'gpt-4o-mini'\n",
    "\n",
    "for model in ['gpt-4o-mini', 'gpt-4o']:\n",
    "    # prepare output directory for predictions\n",
    "    output_dir = f'/Users/maxshap/Documents/workspace/LLMverse/src/LLMverse/projects/brainteasers_reasoning/brainteaser_{model}_results'\n",
    "    os.makedirs(output_dir, exist_ok=True)\n",
    "    print(f'Running solver for {model}')\n",
    "    # parallelize the process\n",
    "    _ = Parallel(n_jobs=4)(\n",
    "        delayed(basic_response_generation)(system_message=system_prompt, \n",
    "                          prompt=f'<riddle>{row.question}</riddle>', \n",
    "                          utt_id=row.id, \n",
    "                          output_dir=output_dir, \n",
    "                          api_key=api_key, \n",
    "                          model_name=model, \n",
    "                          skip_if_exist=True) for row in data[['id', 'question']].itertuples())\n",
    "    \n",
    "    # store predictions in the pandas frame\n",
    "    data[f'{model}_response'] = data['id'].apply(lambda x: parse_response_from_file(x, output_dir))\n",
    "    \n",
    "    print(f'Running judge for {model}')\n",
    "    # extract validations\n",
    "    output_dir = f'/Users/maxshap/Documents/workspace/LLMverse/src/LLMverse/projects/brainteasers_reasoning/brainteaser_{model}_validation_results'\n",
    "    os.makedirs(output_dir, exist_ok=True)\n",
    "\n",
    "    # parallelize the process to speed things up\n",
    "    # row._4 referes to column {model}_response of pandas data frame\n",
    "    _ = Parallel(n_jobs=3)(\n",
    "    delayed(basic_response_generation)(system_message=validator_system_prompt, \n",
    "                          prompt=f'<riddle>{row.question}</riddle>\\n<reference_answer>{row.answer}</reference_answer>\\n<predicted_answer>{row._4}</predicted_answer>', \n",
    "                          utt_id=row.id, \n",
    "                          output_dir=output_dir, \n",
    "                          api_key=api_key, \n",
    "                          model_name='gpt-4o', \n",
    "                          skip_if_exist=True) for row in data[['id', 'question', 'answer', f'{model}_response']].itertuples())\n",
    "    # store validations in a frame\n",
    "    data[f'{model}_validation'] = data['id'].apply(lambda x: extract_verdict_from_file(x, output_dir))\n",
    "    "
   ]
  },
  {
   "cell_type": "code",
   "execution_count": 13,
   "metadata": {},
   "outputs": [
    {
     "data": {
      "text/html": [
       "<div>\n",
       "<style scoped>\n",
       "    .dataframe tbody tr th:only-of-type {\n",
       "        vertical-align: middle;\n",
       "    }\n",
       "\n",
       "    .dataframe tbody tr th {\n",
       "        vertical-align: top;\n",
       "    }\n",
       "\n",
       "    .dataframe thead th {\n",
       "        text-align: right;\n",
       "    }\n",
       "</style>\n",
       "<table border=\"1\" class=\"dataframe\">\n",
       "  <thead>\n",
       "    <tr style=\"text-align: right;\">\n",
       "      <th></th>\n",
       "      <th>id</th>\n",
       "      <th>question</th>\n",
       "      <th>answer</th>\n",
       "      <th>list_of_options</th>\n",
       "      <th>category</th>\n",
       "      <th>puzzle_type</th>\n",
       "      <th>gpt-4o-mini_response</th>\n",
       "      <th>gpt-4o-mini_validation</th>\n",
       "      <th>gpt-4o_response</th>\n",
       "      <th>gpt-4o_validation</th>\n",
       "    </tr>\n",
       "  </thead>\n",
       "  <tbody>\n",
       "    <tr>\n",
       "      <th>112</th>\n",
       "      <td>WP-37_SR</td>\n",
       "      <td>Which three letters can fend off a thief?</td>\n",
       "      <td>I C U.</td>\n",
       "      <td>[O P T, I C U., S O S, None of above.]</td>\n",
       "      <td>word_puzzle</td>\n",
       "      <td>original</td>\n",
       "      <td>FBI</td>\n",
       "      <td>True</td>\n",
       "      <td>D, O, G (dog)</td>\n",
       "      <td>True</td>\n",
       "    </tr>\n",
       "    <tr>\n",
       "      <th>284</th>\n",
       "      <td>SP-94_CR</td>\n",
       "      <td>Two person had to go to the top of the hill. There's only one motorcycle, yet only one person can ride it. Fortunately, they both get to the top of the hill. How?</td>\n",
       "      <td>One person is already at the top of the hill.</td>\n",
       "      <td>[They find a good view., One men go home to get a another motorcycle., One person is already at the top of the hill., None of above.]</td>\n",
       "      <td>sentence_puzzle</td>\n",
       "      <td>semantic_reconstruction</td>\n",
       "      <td>One person rides the motorcycle to the top, while the other walks or takes another route to reach the top.</td>\n",
       "      <td>False</td>\n",
       "      <td>One person rides the motorcycle partway up the hill, leaves it, and continues walking to the top. The second person walks to the motorcycle, rides it the rest of the way to the top, where they both meet.</td>\n",
       "      <td>False</td>\n",
       "    </tr>\n",
       "    <tr>\n",
       "      <th>237</th>\n",
       "      <td>SP-79</td>\n",
       "      <td>Jessica is telling her friends this story and asks them to guess if it's the truth or a lie: \"There was a man sitting in a house at night that had no lights on at all. There was no lamp, no candle, and no other source of light. Yet, he sat in the house and read his book happily.\" Her friends say she's lying, but Jessica corrects them and says she's telling the truth. Jessica's story is true—but how?</td>\n",
       "      <td>The man is blind and is reading braille.\\n</td>\n",
       "      <td>[The man is blind and is reading braille.\\n, The man is smart that she pretended to reading the book., Because it was daytime., None of above.]</td>\n",
       "      <td>sentence_puzzle</td>\n",
       "      <td>semantic_reconstruction</td>\n",
       "      <td>The man was reading by the light of the moon.</td>\n",
       "      <td>False</td>\n",
       "      <td>The man is blind and reading a book in Braille.</td>\n",
       "      <td>True</td>\n",
       "    </tr>\n",
       "    <tr>\n",
       "      <th>32</th>\n",
       "      <td>SP-10_CR</td>\n",
       "      <td>Eight people were sitting under a large tree. Suddenly, a gust of wind blows, yet none of them got hit by any falling leaves. How is this possible?</td>\n",
       "      <td>It was winter and the tree doesn't have any leaves.</td>\n",
       "      <td>[Trees could have had a unique characteristic that made it resistant to losing leaves in windy conditions. , The gust of wind is that the wind blew in a direction away from the tree rather than towards it., It was winter and the tree doesn't have any leaves., None of above.]</td>\n",
       "      <td>sentence_puzzle</td>\n",
       "      <td>semantic_reconstruction</td>\n",
       "      <td>There are no leaves on the tree.</td>\n",
       "      <td>True</td>\n",
       "      <td>The tree had no leaves to begin with.</td>\n",
       "      <td>True</td>\n",
       "    </tr>\n",
       "    <tr>\n",
       "      <th>107</th>\n",
       "      <td>WP-35_CR</td>\n",
       "      <td>What is the sum of 3/6 monkey, 3/4 tree, and 2/7 alcohol?</td>\n",
       "      <td>Montreal.</td>\n",
       "      <td>[Montreal., California., Texas., None of above.]</td>\n",
       "      <td>word_puzzle</td>\n",
       "      <td>context_reconstruction</td>\n",
       "      <td>Montreal</td>\n",
       "      <td>True</td>\n",
       "      <td>mental</td>\n",
       "      <td>False</td>\n",
       "    </tr>\n",
       "  </tbody>\n",
       "</table>\n",
       "</div>"
      ],
      "text/plain": [
       "           id  \\\n",
       "112  WP-37_SR   \n",
       "284  SP-94_CR   \n",
       "237     SP-79   \n",
       "32   SP-10_CR   \n",
       "107  WP-35_CR   \n",
       "\n",
       "                                                                                                                                                                                                                                                                                                                                                                                                               question  \\\n",
       "112                                                                                                                                                                                                                                                                                                                                                                           Which three letters can fend off a thief?   \n",
       "284                                                                                                                                                                                                                                                  Two person had to go to the top of the hill. There's only one motorcycle, yet only one person can ride it. Fortunately, they both get to the top of the hill. How?   \n",
       "237  Jessica is telling her friends this story and asks them to guess if it's the truth or a lie: \"There was a man sitting in a house at night that had no lights on at all. There was no lamp, no candle, and no other source of light. Yet, he sat in the house and read his book happily.\" Her friends say she's lying, but Jessica corrects them and says she's telling the truth. Jessica's story is true—but how?   \n",
       "32                                                                                                                                                                                                                                                                  Eight people were sitting under a large tree. Suddenly, a gust of wind blows, yet none of them got hit by any falling leaves. How is this possible?   \n",
       "107                                                                                                                                                                                                                                                                                                                                                           What is the sum of 3/6 monkey, 3/4 tree, and 2/7 alcohol?   \n",
       "\n",
       "                                                  answer  \\\n",
       "112                                               I C U.   \n",
       "284        One person is already at the top of the hill.   \n",
       "237           The man is blind and is reading braille.\\n   \n",
       "32   It was winter and the tree doesn't have any leaves.   \n",
       "107                                            Montreal.   \n",
       "\n",
       "                                                                                                                                                                                                                                                                         list_of_options  \\\n",
       "112                                                                                                                                                                                                                                               [O P T, I C U., S O S, None of above.]   \n",
       "284                                                                                                                                                [They find a good view., One men go home to get a another motorcycle., One person is already at the top of the hill., None of above.]   \n",
       "237                                                                                                                                      [The man is blind and is reading braille.\\n, The man is smart that she pretended to reading the book., Because it was daytime., None of above.]   \n",
       "32   [Trees could have had a unique characteristic that made it resistant to losing leaves in windy conditions. , The gust of wind is that the wind blew in a direction away from the tree rather than towards it., It was winter and the tree doesn't have any leaves., None of above.]   \n",
       "107                                                                                                                                                                                                                                     [Montreal., California., Texas., None of above.]   \n",
       "\n",
       "            category              puzzle_type  \\\n",
       "112      word_puzzle                 original   \n",
       "284  sentence_puzzle  semantic_reconstruction   \n",
       "237  sentence_puzzle  semantic_reconstruction   \n",
       "32   sentence_puzzle  semantic_reconstruction   \n",
       "107      word_puzzle   context_reconstruction   \n",
       "\n",
       "                                                                                           gpt-4o-mini_response  \\\n",
       "112                                                                                                         FBI   \n",
       "284  One person rides the motorcycle to the top, while the other walks or takes another route to reach the top.   \n",
       "237                                                               The man was reading by the light of the moon.   \n",
       "32                                                                             There are no leaves on the tree.   \n",
       "107                                                                                                    Montreal   \n",
       "\n",
       "     gpt-4o-mini_validation  \\\n",
       "112                    True   \n",
       "284                   False   \n",
       "237                   False   \n",
       "32                     True   \n",
       "107                    True   \n",
       "\n",
       "                                                                                                                                                                                                 gpt-4o_response  \\\n",
       "112                                                                                                                                                                                                D, O, G (dog)   \n",
       "284  One person rides the motorcycle partway up the hill, leaves it, and continues walking to the top. The second person walks to the motorcycle, rides it the rest of the way to the top, where they both meet.   \n",
       "237                                                                                                                                                              The man is blind and reading a book in Braille.   \n",
       "32                                                                                                                                                                         The tree had no leaves to begin with.   \n",
       "107                                                                                                                                                                                                       mental   \n",
       "\n",
       "     gpt-4o_validation  \n",
       "112               True  \n",
       "284              False  \n",
       "237               True  \n",
       "32                True  \n",
       "107              False  "
      ]
     },
     "execution_count": 13,
     "metadata": {},
     "output_type": "execute_result"
    }
   ],
   "source": [
    "data.head()"
   ]
  },
  {
   "cell_type": "markdown",
   "metadata": {},
   "source": [
    "Overall accuracy of the systems"
   ]
  },
  {
   "cell_type": "code",
   "execution_count": 18,
   "metadata": {},
   "outputs": [
    {
     "data": {
      "text/html": [
       "<div>\n",
       "<style scoped>\n",
       "    .dataframe tbody tr th:only-of-type {\n",
       "        vertical-align: middle;\n",
       "    }\n",
       "\n",
       "    .dataframe tbody tr th {\n",
       "        vertical-align: top;\n",
       "    }\n",
       "\n",
       "    .dataframe thead th {\n",
       "        text-align: right;\n",
       "    }\n",
       "</style>\n",
       "<table border=\"1\" class=\"dataframe\">\n",
       "  <thead>\n",
       "    <tr style=\"text-align: right;\">\n",
       "      <th></th>\n",
       "      <th>system</th>\n",
       "      <th>accuracy</th>\n",
       "    </tr>\n",
       "  </thead>\n",
       "  <tbody>\n",
       "    <tr>\n",
       "      <th>0</th>\n",
       "      <td>gpt-4o</td>\n",
       "      <td>0.75</td>\n",
       "    </tr>\n",
       "    <tr>\n",
       "      <th>1</th>\n",
       "      <td>gpt-4o-mini</td>\n",
       "      <td>0.55</td>\n",
       "    </tr>\n",
       "  </tbody>\n",
       "</table>\n",
       "</div>"
      ],
      "text/plain": [
       "        system  accuracy\n",
       "0       gpt-4o      0.75\n",
       "1  gpt-4o-mini      0.55"
      ]
     },
     "execution_count": 18,
     "metadata": {},
     "output_type": "execute_result"
    }
   ],
   "source": [
    "pd.DataFrame({\n",
    "    'system': ['gpt-4o', 'gpt-4o-mini'],\n",
    "    'accuracy': [round(data['gpt-4o_validation'].mean(), 2), \n",
    "                 round(data['gpt-4o-mini_validation'].mean(), 2)],\n",
    "})"
   ]
  },
  {
   "cell_type": "markdown",
   "metadata": {},
   "source": [
    "Analyze the model accuracy with the:\n",
    " * Original sentence puzzles, category `original` (technically model could have seen the puzzle during pretraining)\n",
    " * Reconstructed version of the puzzle, `context_reconstruction` or `semantic_reconstruction` (less likely it could have seen the puzzle somewhere during pretraining or instruction tuning)"
   ]
  },
  {
   "cell_type": "code",
   "execution_count": 31,
   "metadata": {},
   "outputs": [
    {
     "data": {
      "text/plain": [
       "puzzle_type\n",
       "context_reconstruction     0.656250\n",
       "original                   0.841360\n",
       "semantic_reconstruction    0.745042\n",
       "Name: gpt-4o_validation, dtype: float64"
      ]
     },
     "execution_count": 31,
     "metadata": {},
     "output_type": "execute_result"
    }
   ],
   "source": [
    "data.groupby('puzzle_type')['gpt-4o_validation'].mean()"
   ]
  },
  {
   "cell_type": "code",
   "execution_count": 39,
   "metadata": {},
   "outputs": [
    {
     "data": {
      "text/plain": [
       "puzzle_type\n",
       "original                   0.603399\n",
       "semantic_reconstruction    0.541076\n",
       "context_reconstruction     0.502841\n",
       "Name: gpt-4o-mini_validation, dtype: float64"
      ]
     },
     "execution_count": 39,
     "metadata": {},
     "output_type": "execute_result"
    }
   ],
   "source": [
    "data.groupby('puzzle_type')['gpt-4o-mini_validation'].mean().sort_values(ascending=False)"
   ]
  },
  {
   "cell_type": "code",
   "execution_count": 32,
   "metadata": {},
   "outputs": [
    {
     "data": {
      "text/plain": [
       "puzzle_type\n",
       "context_reconstruction     0.502841\n",
       "original                   0.603399\n",
       "semantic_reconstruction    0.541076\n",
       "Name: gpt-4o-mini_validation, dtype: float64"
      ]
     },
     "execution_count": 32,
     "metadata": {},
     "output_type": "execute_result"
    }
   ],
   "source": [
    "data.groupby('puzzle_type')['gpt-4o-mini_validation'].mean()"
   ]
  },
  {
   "cell_type": "markdown",
   "metadata": {},
   "source": [
    "Finally, let's see how models perform on `word_puzzle` and `sentence_puzzle`"
   ]
  },
  {
   "cell_type": "code",
   "execution_count": 20,
   "metadata": {},
   "outputs": [
    {
     "data": {
      "text/plain": [
       "category\n",
       "sentence_puzzle    0.776224\n",
       "word_puzzle        0.713992\n",
       "Name: gpt-4o_validation, dtype: float64"
      ]
     },
     "execution_count": 20,
     "metadata": {},
     "output_type": "execute_result"
    }
   ],
   "source": [
    "data.groupby('category')['gpt-4o_validation'].mean()"
   ]
  },
  {
   "cell_type": "code",
   "execution_count": 21,
   "metadata": {},
   "outputs": [
    {
     "data": {
      "text/plain": [
       "category\n",
       "sentence_puzzle    0.568182\n",
       "word_puzzle        0.526749\n",
       "Name: gpt-4o-mini_validation, dtype: float64"
      ]
     },
     "execution_count": 21,
     "metadata": {},
     "output_type": "execute_result"
    }
   ],
   "source": [
    "data.groupby('category')['gpt-4o-mini_validation'].mean()"
   ]
  },
  {
   "cell_type": "markdown",
   "metadata": {},
   "source": [
    "Basic analysis\n",
    "\n",
    "* Bigger model leads to performance boost, gpt-4o outperforms gpt-4o-mini by 20%\n",
    "* Model performance goes down on reconstructed variants of puzzles. This indicates that it's very like just saw somewhere in the training data original puzzle and memorized the answeer for it.\n",
    "\n",
    "Next steps:\n",
    "* Instead of running generation for one time, run it multiple times and select the best of N responses as a final prediction (basically, ensambling). Likely this approach will improve results for all models\n",
    "* Try out bigger(?) and smarter (for sure) models like `o1` that specicifally optimized for reasoning tasks\n",
    "* Try a real-life scenario: let the model generate some response, validate it, and if the answer is not correct, give the model another try to solve it using information from validator. This approach can mimic a real brainteaser-interview where candidate thinks in steps and verifies his thoughts with the interviewer"
   ]
  },
  {
   "cell_type": "code",
   "execution_count": null,
   "metadata": {},
   "outputs": [],
   "source": []
  }
 ],
 "metadata": {
  "kernelspec": {
   "display_name": ".reasoning_venv",
   "language": "python",
   "name": "python3"
  },
  "language_info": {
   "codemirror_mode": {
    "name": "ipython",
    "version": 3
   },
   "file_extension": ".py",
   "mimetype": "text/x-python",
   "name": "python",
   "nbconvert_exporter": "python",
   "pygments_lexer": "ipython3",
   "version": "3.13.1"
  }
 },
 "nbformat": 4,
 "nbformat_minor": 2
}
